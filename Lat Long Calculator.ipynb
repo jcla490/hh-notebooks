{
 "cells": [
  {
   "cell_type": "code",
   "execution_count": 1,
   "metadata": {},
   "outputs": [
    {
     "data": {
      "image/png": "[encoded data removed]",
      "text/plain": [
       "<IPython.core.display.Image object>"
      ]
     },
     "execution_count": 1,
     "metadata": {},
     "output_type": "execute_result"
    }
   ],
   "source": [
    "from math import radians, cos, sin, asin, sqrt\n",
    "\n",
    "from ipywidgets import widgets, HBox, VBox\n",
    "from IPython.display import HTML, Image\n",
    "\n",
    "Image(filename='logo.png')"
   ]
  },
  {
   "cell_type": "markdown",
   "metadata": {},
   "source": [
    "# Tools: Calculate the distance between two lat/lons \n",
    "\n",
    "Use this simple tool to quickly find the 'as-the-crow-flies' distance between two points"
   ]
  },
  {
   "cell_type": "code",
   "execution_count": 2,
   "metadata": {
    "scrolled": true
   },
   "outputs": [
    {
     "data": {
      "text/html": [
       "<style>.bottom-spacing{margin-bottom:15px;}.center-align{margin:auto; width:50%; margin-top: 15px; margin-right:15px;}div.input{display:none;}</style>"
      ],
      "text/plain": [
       "<IPython.core.display.HTML object>"
      ]
     },
     "metadata": {},
     "output_type": "display_data"
    },
    {
     "data": {
      "application/vnd.jupyter.widget-view+json": {
       "model_id": "1292bb7fafcb4cf3a049624c3f0de79c",
       "version_major": 2,
       "version_minor": 0
      },
      "text/plain": [
       "VBox(children=(Label(value='Enter the first lat/lon pair in decimal degrees:'), HBox(children=(FloatText(value…"
      ]
     },
     "metadata": {},
     "output_type": "display_data"
    }
   ],
   "source": [
    "# Display \n",
    "\n",
    "lat1 = widgets.FloatText(description='Latitude 1:')\n",
    "lon1 = widgets.FloatText(description='Longitude 1:')\n",
    "lat2 = widgets.FloatText(description='Latitude 2:')\n",
    "lon2 = widgets.FloatText(description='Longitude 2:')\n",
    "first_label = widgets.Label(value='Enter the first lat/lon pair in decimal degrees:')\n",
    "first = HBox([lat1, lon1]).add_class('bottom-spacing')\n",
    "second_label = widgets.Label(value='Enter the second lat/lon pair in decimal degrees:')\n",
    "second = HBox([lat2, lon2])\n",
    "output_units = widgets.Dropdown(options=['Kilometers', 'Miles', 'Nautical Miles'], \n",
    "                                        value='Kilometers', layout={'width': 'max-content'})\n",
    "output_units_box = widgets.Box(\n",
    "    [widgets.Label(value='Preferred output units:'), output_units])\n",
    "submit = widgets.Button(description=\"Calculate\", button_style=\"primary\", tooltip='Compute distance',\n",
    "                        icon=\"calculator\").add_class('center-align')\n",
    "clear = widgets.Button(description=\"Clear Inputs\", button_style=\"danger\", tooltip='Clear inputs',\n",
    "                        icon=\"undo\").add_class('center-align')\n",
    "third = HBox([submit, clear])\n",
    "\n",
    "output = widgets.Output()\n",
    "\n",
    "display(HTML(\"<style>\" +\n",
    "             \".bottom-spacing{margin-bottom:15px;}\" +\n",
    "             \".center-align{margin:auto; width:50%; margin-top: 15px; margin-right:15px;}\" + \n",
    "             \"div.input{display:none;}\" +\n",
    "             \"</style>\"))\n",
    "\n",
    "# Calculation\n",
    "def calc_distance(obj):\n",
    "    \"\"\"\n",
    "    Calculate the great circle distance between two points \n",
    "    on the earth (specified in decimal degrees)\n",
    "    \"\"\"\n",
    "    output.clear_output()\n",
    "    lon_rad1, lat_rad1, lon_rad2, lat_rad2 = map(radians, [lon1.value, lat1.value, lon2.value, lat2.value])\n",
    "    dlon = float(lon_rad2) - float(lon_rad1) \n",
    "    dlat = lat_rad2 - lat_rad1 \n",
    "    a = sin(dlat/2)**2 + cos(lat_rad1) * cos(lat_rad2) * sin(dlon/2)**2\n",
    "    c = 2 * asin(sqrt(a)) \n",
    "    if output_units.value == 'Kilometers':\n",
    "        r = 6371.137 # This is WGS-84 value\n",
    "        units = 'kilometers'\n",
    "    elif output_units.value == 'Nautical Miles':\n",
    "        r = 3440.1\n",
    "        units = 'nautical miles'\n",
    "    else:\n",
    "        r = 3959.87433\n",
    "        units = 'square miles'\n",
    "    with output:\n",
    "        print(\"The distance between these two points is {} {}.\".format(round(c * r, 6), units))\n",
    "        \n",
    "def clear_all(obj):\n",
    "    lat1.value, lat2.value, lon1.value, lon2.value = 0, 0, 0, 0 \n",
    "    output.clear_output()\n",
    "    \n",
    "    \n",
    "submit.on_click(calc_distance)\n",
    "clear.on_click(clear_all)\n",
    "\n",
    "VBox([first_label, first, second_label, second, output_units_box, third, output])\n"
   ]
  },
  {
   "cell_type": "code",
   "execution_count": null,
   "metadata": {},
   "outputs": [],
   "source": []
  }
 ],
 "metadata": {
  "kernelspec": {
   "display_name": "py38",
   "language": "python",
   "name": "py38"
  },
  "language_info": {
   "codemirror_mode": {
    "name": "ipython",
    "version": 3
   },
   "file_extension": ".py",
   "mimetype": "text/x-python",
   "name": "python",
   "nbconvert_exporter": "python",
   "pygments_lexer": "ipython3",
   "version": "3.8.5"
  }
 },
 "nbformat": 4,
 "nbformat_minor": 4
}
